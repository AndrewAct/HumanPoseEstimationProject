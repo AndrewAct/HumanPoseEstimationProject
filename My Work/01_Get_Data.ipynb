{
  "nbformat": 4,
  "nbformat_minor": 0,
  "metadata": {
    "colab": {
      "name": "Get_Data.ipynb",
      "provenance": []
    },
    "kernelspec": {
      "name": "python3",
      "display_name": "Python 3"
    }
  },
  "cells": [
    {
      "cell_type": "markdown",
      "metadata": {
        "id": "kRUdlt4joPo0",
        "colab_type": "text"
      },
      "source": [
        "# Human Pose Estimation\n",
        "### Based on SVHN (Street View House Numbers) and COCO(Common Objects in Context)"
      ]
    },
    {
      "cell_type": "markdown",
      "metadata": {
        "id": "RY9h4AGdoZ2U",
        "colab_type": "text"
      },
      "source": [
        "## 1. Download the COCO dataset"
      ]
    },
    {
      "cell_type": "code",
      "metadata": {
        "id": "mOZiJcuPocNo",
        "colab_type": "code",
        "colab": {}
      },
      "source": [
        "import boto3 \n",
        "from botocore import UNSIGNED\n",
        "from botocore.client import Config\n",
        "import multiprocessing\n",
        "import subprocess\n",
        "files = ['val2017.zip', 'annotations_trainval2017.zip', 'train2017.zip']\n",
        "\n",
        "s3 = boto3.client('s3', config = Config(signature_version = UNSIGNED))\n",
        "def download_and_unzip_from_s3(file_name, bucket_name = 'fast-ai-coco'):\n",
        "  print(\"Downloading: \", file_name)\n",
        "  s3.download_file(bucket_name, file_name, file_name)\n",
        "  print(\"Finished downloading \", file_name, \". Starting to unzip.\")\n",
        "  subprocess.run([\"unzip\", file_name])\n",
        "  print(\"Finished upzipping\", file_name)\n",
        "\n",
        "# Download in parallel\n",
        "num_cpus = multiprocessing.cpu_count()\n",
        "with multiprocessing.Pool(num_cpus) as p:\n",
        "  p.map(download_and_unzip_from_s3, files)\n",
        "\n",
        "print(\"Done transferring all datasets\")"
      ],
      "execution_count": null,
      "outputs": []
    }
  ]
}